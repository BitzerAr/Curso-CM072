{
 "cells": [
  {
   "cell_type": "markdown",
   "metadata": {},
   "source": [
    "## Tarea 1 del curso CM-072\n",
    "\n",
    "* Nombre y apellidos: Bitzer Nazaret Arotoma Bacilio\n",
    "* Fecha de presentación: 11 de setiembre."
   ]
  },
  {
   "cell_type": "markdown",
   "metadata": {},
   "source": [
    "## Lista de preguntas:"
   ]
  },
  {
   "cell_type": "markdown",
   "metadata": {},
   "source": [
    "1 . Responde de acuerdo a los conceptos hechos en clase las siguientes preguntas:\n",
    "   * Supongamos que tenemos la tarea de construir un sistema que pueda distinguir  correo no deseado o spam. ¿Qué crees que hay en un correo electrónico no deseado que nos permite saber que es spam? ¿Cómo puede la computadora detectar spam a través de un análisis sintáctico?. ¿Qué te gustaría que hiciera la computadora si detecta un correo electrónico que es spam?, ¿eliminarlo automáticamente, moverlo a un archivo diferente o simplemente resaltarlo en la pantalla?.\n",
    "   \n",
    "   * ¿Cómo se puede predecir el siguiente comando a ser escrito por un usuario? ¿O la próxima página de la que descargará información en la Web? ¿Cuándo sería útil tal predicción? ¿Cuándo no?."
   ]
  },
  {
   "cell_type": "markdown",
   "metadata": {},
   "source": [
    "##### Respuesta 1:\n",
    "    \n",
    "  * Este es un problema fundamentalmente de clasificación, la cual tiene como característica generar un regla general que correlacione los datos de observación. En un correo electrónico no deseado se pueden distinguir patrones inusuales como son los caracteres especiales (%&#..), textos en mayúscula, números similares a telefonos o cuentas bancarias. La detección de un correo spam se puede realizar a través de determinadas reglas de expresiones regulares que se analizará en cada mensaje nuevo. Al detectar un correo spam sería almacenarlo en una carpeta de correos no deseados para que el usuario posteriormente pueda ver quienes son los emisores y bloquearlos si se generan constantemente. \n",
    "  * Se puede predecir el siguiente comando relacionando comandos anteriores y la frecuencias con las que ingresa estos, y generando relaciones predeterminadas entre los comandos ingresados por el usuario constantemente como ejemplo al generar una conversación siempre empieza con un hola. La predicción de la próxima página es algo complejo ya que de por sí son miles de páginas para un determinado tema y predecir cual sera la pagina de tu elección tendría que estar ya registrado en tu usuario, es útil la predicción cuando el usuario es nuevo y no sabe opta por aceptar la predicción que se genera. No sería útil y que su predicción no sería del todo aceptable y te genera mayor confusión dirigiéndose a enlaces que no deseabas.\n",
    "\n"
   ]
  },
  {
   "cell_type": "markdown",
   "metadata": {},
   "source": [
    "2 . ¿Puedes predecir las especies de un iris usando medidas de pétalos y sépalos?\n",
    "\n",
    "   * Lee los datos del conjunto predeterminado `iris` en un DataFrame de Pandas, incluyendo los nombres de las columnas.\n",
    "   * Recolecta  información básica sobre los datos `iris`  utilizando pandas.\n",
    "   * Utiliza la clasificación, [dividir-aplicar-combinar](https://pandas.pydata.org/pandas-docs/version/0.23.4/groupby.html) y  visualización para buscar las diferencias entre las especies.\n",
    "\n",
    "   * Escribe un conjunto de reglas que podrían usarse para predecir especies en base a las mediciones de iris.\n",
    "   * Define una función que acepte una fila de datos y devuelva una especie pronosticada. Luego, usa esa función para hacer predicciones para todas las filas de datos existentes y verifique la precisión de sus predicciones.\n"
   ]
  },
  {
   "cell_type": "code",
   "execution_count": 1,
   "metadata": {},
   "outputs": [
    {
     "data": {
      "text/html": [
       "<div>\n",
       "<style scoped>\n",
       "    .dataframe tbody tr th:only-of-type {\n",
       "        vertical-align: middle;\n",
       "    }\n",
       "\n",
       "    .dataframe tbody tr th {\n",
       "        vertical-align: top;\n",
       "    }\n",
       "\n",
       "    .dataframe thead th {\n",
       "        text-align: right;\n",
       "    }\n",
       "</style>\n",
       "<table border=\"1\" class=\"dataframe\">\n",
       "  <thead>\n",
       "    <tr style=\"text-align: right;\">\n",
       "      <th></th>\n",
       "      <th>S_L</th>\n",
       "      <th>S_W</th>\n",
       "      <th>P_L</th>\n",
       "      <th>P_W</th>\n",
       "      <th>target</th>\n",
       "    </tr>\n",
       "  </thead>\n",
       "  <tbody>\n",
       "    <tr>\n",
       "      <th>0</th>\n",
       "      <td>5.1</td>\n",
       "      <td>3.5</td>\n",
       "      <td>1.4</td>\n",
       "      <td>0.2</td>\n",
       "      <td>Iris-setosa</td>\n",
       "    </tr>\n",
       "    <tr>\n",
       "      <th>1</th>\n",
       "      <td>4.9</td>\n",
       "      <td>3.0</td>\n",
       "      <td>1.4</td>\n",
       "      <td>0.2</td>\n",
       "      <td>Iris-setosa</td>\n",
       "    </tr>\n",
       "    <tr>\n",
       "      <th>2</th>\n",
       "      <td>4.7</td>\n",
       "      <td>3.2</td>\n",
       "      <td>1.3</td>\n",
       "      <td>0.2</td>\n",
       "      <td>Iris-setosa</td>\n",
       "    </tr>\n",
       "    <tr>\n",
       "      <th>3</th>\n",
       "      <td>4.6</td>\n",
       "      <td>3.1</td>\n",
       "      <td>1.5</td>\n",
       "      <td>0.2</td>\n",
       "      <td>Iris-setosa</td>\n",
       "    </tr>\n",
       "    <tr>\n",
       "      <th>4</th>\n",
       "      <td>5.0</td>\n",
       "      <td>3.6</td>\n",
       "      <td>1.4</td>\n",
       "      <td>0.2</td>\n",
       "      <td>Iris-setosa</td>\n",
       "    </tr>\n",
       "    <tr>\n",
       "      <th>5</th>\n",
       "      <td>5.4</td>\n",
       "      <td>3.9</td>\n",
       "      <td>1.7</td>\n",
       "      <td>0.4</td>\n",
       "      <td>Iris-setosa</td>\n",
       "    </tr>\n",
       "    <tr>\n",
       "      <th>6</th>\n",
       "      <td>4.6</td>\n",
       "      <td>3.4</td>\n",
       "      <td>1.4</td>\n",
       "      <td>0.3</td>\n",
       "      <td>Iris-setosa</td>\n",
       "    </tr>\n",
       "    <tr>\n",
       "      <th>7</th>\n",
       "      <td>5.0</td>\n",
       "      <td>3.4</td>\n",
       "      <td>1.5</td>\n",
       "      <td>0.2</td>\n",
       "      <td>Iris-setosa</td>\n",
       "    </tr>\n",
       "    <tr>\n",
       "      <th>8</th>\n",
       "      <td>4.4</td>\n",
       "      <td>2.9</td>\n",
       "      <td>1.4</td>\n",
       "      <td>0.2</td>\n",
       "      <td>Iris-setosa</td>\n",
       "    </tr>\n",
       "    <tr>\n",
       "      <th>9</th>\n",
       "      <td>4.9</td>\n",
       "      <td>3.1</td>\n",
       "      <td>1.5</td>\n",
       "      <td>0.1</td>\n",
       "      <td>Iris-setosa</td>\n",
       "    </tr>\n",
       "  </tbody>\n",
       "</table>\n",
       "</div>"
      ],
      "text/plain": [
       "   S_L  S_W  P_L  P_W       target\n",
       "0  5.1  3.5  1.4  0.2  Iris-setosa\n",
       "1  4.9  3.0  1.4  0.2  Iris-setosa\n",
       "2  4.7  3.2  1.3  0.2  Iris-setosa\n",
       "3  4.6  3.1  1.5  0.2  Iris-setosa\n",
       "4  5.0  3.6  1.4  0.2  Iris-setosa\n",
       "5  5.4  3.9  1.7  0.4  Iris-setosa\n",
       "6  4.6  3.4  1.4  0.3  Iris-setosa\n",
       "7  5.0  3.4  1.5  0.2  Iris-setosa\n",
       "8  4.4  2.9  1.4  0.2  Iris-setosa\n",
       "9  4.9  3.1  1.5  0.1  Iris-setosa"
      ]
     },
     "execution_count": 1,
     "metadata": {},
     "output_type": "execute_result"
    }
   ],
   "source": [
    "#Leer datos en un DataFrame de Pandas\n",
    "from sklearn import datasets\n",
    "iris = datasets.load_iris()\n",
    "import pandas as pd\n",
    "data = pd.DataFrame(iris.data, columns= ['S_L','S_W','P_L','P_W'])\n",
    "data['target'] = iris.target\n",
    "data.target.replace( [0, 1, 2], ['Iris-setosa', 'Iris-versicolor', 'Iris-virginica'],inplace=True)\n",
    "data.head(10)\n"
   ]
  },
  {
   "cell_type": "code",
   "execution_count": 2,
   "metadata": {},
   "outputs": [
    {
     "name": "stdout",
     "output_type": "stream",
     "text": [
      "<class 'pandas.core.frame.DataFrame'>\n",
      "RangeIndex: 150 entries, 0 to 149\n",
      "Data columns (total 5 columns):\n",
      "S_L       150 non-null float64\n",
      "S_W       150 non-null float64\n",
      "P_L       150 non-null float64\n",
      "P_W       150 non-null float64\n",
      "target    150 non-null object\n",
      "dtypes: float64(4), object(1)\n",
      "memory usage: 5.9+ KB\n"
     ]
    },
    {
     "data": {
      "text/html": [
       "<div>\n",
       "<style scoped>\n",
       "    .dataframe tbody tr th:only-of-type {\n",
       "        vertical-align: middle;\n",
       "    }\n",
       "\n",
       "    .dataframe tbody tr th {\n",
       "        vertical-align: top;\n",
       "    }\n",
       "\n",
       "    .dataframe thead th {\n",
       "        text-align: right;\n",
       "    }\n",
       "</style>\n",
       "<table border=\"1\" class=\"dataframe\">\n",
       "  <thead>\n",
       "    <tr style=\"text-align: right;\">\n",
       "      <th></th>\n",
       "      <th>S_L</th>\n",
       "      <th>S_W</th>\n",
       "      <th>P_L</th>\n",
       "      <th>P_W</th>\n",
       "    </tr>\n",
       "  </thead>\n",
       "  <tbody>\n",
       "    <tr>\n",
       "      <th>count</th>\n",
       "      <td>150.000000</td>\n",
       "      <td>150.000000</td>\n",
       "      <td>150.000000</td>\n",
       "      <td>150.000000</td>\n",
       "    </tr>\n",
       "    <tr>\n",
       "      <th>mean</th>\n",
       "      <td>5.843333</td>\n",
       "      <td>3.054000</td>\n",
       "      <td>3.758667</td>\n",
       "      <td>1.198667</td>\n",
       "    </tr>\n",
       "    <tr>\n",
       "      <th>std</th>\n",
       "      <td>0.828066</td>\n",
       "      <td>0.433594</td>\n",
       "      <td>1.764420</td>\n",
       "      <td>0.763161</td>\n",
       "    </tr>\n",
       "    <tr>\n",
       "      <th>min</th>\n",
       "      <td>4.300000</td>\n",
       "      <td>2.000000</td>\n",
       "      <td>1.000000</td>\n",
       "      <td>0.100000</td>\n",
       "    </tr>\n",
       "    <tr>\n",
       "      <th>25%</th>\n",
       "      <td>5.100000</td>\n",
       "      <td>2.800000</td>\n",
       "      <td>1.600000</td>\n",
       "      <td>0.300000</td>\n",
       "    </tr>\n",
       "    <tr>\n",
       "      <th>50%</th>\n",
       "      <td>5.800000</td>\n",
       "      <td>3.000000</td>\n",
       "      <td>4.350000</td>\n",
       "      <td>1.300000</td>\n",
       "    </tr>\n",
       "    <tr>\n",
       "      <th>75%</th>\n",
       "      <td>6.400000</td>\n",
       "      <td>3.300000</td>\n",
       "      <td>5.100000</td>\n",
       "      <td>1.800000</td>\n",
       "    </tr>\n",
       "    <tr>\n",
       "      <th>max</th>\n",
       "      <td>7.900000</td>\n",
       "      <td>4.400000</td>\n",
       "      <td>6.900000</td>\n",
       "      <td>2.500000</td>\n",
       "    </tr>\n",
       "  </tbody>\n",
       "</table>\n",
       "</div>"
      ],
      "text/plain": [
       "              S_L         S_W         P_L         P_W\n",
       "count  150.000000  150.000000  150.000000  150.000000\n",
       "mean     5.843333    3.054000    3.758667    1.198667\n",
       "std      0.828066    0.433594    1.764420    0.763161\n",
       "min      4.300000    2.000000    1.000000    0.100000\n",
       "25%      5.100000    2.800000    1.600000    0.300000\n",
       "50%      5.800000    3.000000    4.350000    1.300000\n",
       "75%      6.400000    3.300000    5.100000    1.800000\n",
       "max      7.900000    4.400000    6.900000    2.500000"
      ]
     },
     "execution_count": 2,
     "metadata": {},
     "output_type": "execute_result"
    }
   ],
   "source": [
    "#Informacion de la data\n",
    "data.info()\n",
    "data.describe()"
   ]
  },
  {
   "cell_type": "code",
   "execution_count": 3,
   "metadata": {},
   "outputs": [
    {
     "data": {
      "text/html": [
       "<div>\n",
       "<style scoped>\n",
       "    .dataframe tbody tr th:only-of-type {\n",
       "        vertical-align: middle;\n",
       "    }\n",
       "\n",
       "    .dataframe tbody tr th {\n",
       "        vertical-align: top;\n",
       "    }\n",
       "\n",
       "    .dataframe thead tr th {\n",
       "        text-align: left;\n",
       "    }\n",
       "\n",
       "    .dataframe thead tr:last-of-type th {\n",
       "        text-align: right;\n",
       "    }\n",
       "</style>\n",
       "<table border=\"1\" class=\"dataframe\">\n",
       "  <thead>\n",
       "    <tr>\n",
       "      <th></th>\n",
       "      <th colspan=\"8\" halign=\"left\">P_L</th>\n",
       "      <th colspan=\"2\" halign=\"left\">P_W</th>\n",
       "      <th>...</th>\n",
       "      <th colspan=\"2\" halign=\"left\">S_L</th>\n",
       "      <th colspan=\"8\" halign=\"left\">S_W</th>\n",
       "    </tr>\n",
       "    <tr>\n",
       "      <th></th>\n",
       "      <th>count</th>\n",
       "      <th>mean</th>\n",
       "      <th>std</th>\n",
       "      <th>min</th>\n",
       "      <th>25%</th>\n",
       "      <th>50%</th>\n",
       "      <th>75%</th>\n",
       "      <th>max</th>\n",
       "      <th>count</th>\n",
       "      <th>mean</th>\n",
       "      <th>...</th>\n",
       "      <th>75%</th>\n",
       "      <th>max</th>\n",
       "      <th>count</th>\n",
       "      <th>mean</th>\n",
       "      <th>std</th>\n",
       "      <th>min</th>\n",
       "      <th>25%</th>\n",
       "      <th>50%</th>\n",
       "      <th>75%</th>\n",
       "      <th>max</th>\n",
       "    </tr>\n",
       "    <tr>\n",
       "      <th>target</th>\n",
       "      <th></th>\n",
       "      <th></th>\n",
       "      <th></th>\n",
       "      <th></th>\n",
       "      <th></th>\n",
       "      <th></th>\n",
       "      <th></th>\n",
       "      <th></th>\n",
       "      <th></th>\n",
       "      <th></th>\n",
       "      <th></th>\n",
       "      <th></th>\n",
       "      <th></th>\n",
       "      <th></th>\n",
       "      <th></th>\n",
       "      <th></th>\n",
       "      <th></th>\n",
       "      <th></th>\n",
       "      <th></th>\n",
       "      <th></th>\n",
       "      <th></th>\n",
       "    </tr>\n",
       "  </thead>\n",
       "  <tbody>\n",
       "    <tr>\n",
       "      <th>Iris-setosa</th>\n",
       "      <td>50.0</td>\n",
       "      <td>1.464</td>\n",
       "      <td>0.173511</td>\n",
       "      <td>1.0</td>\n",
       "      <td>1.4</td>\n",
       "      <td>1.50</td>\n",
       "      <td>1.575</td>\n",
       "      <td>1.9</td>\n",
       "      <td>50.0</td>\n",
       "      <td>0.244</td>\n",
       "      <td>...</td>\n",
       "      <td>5.2</td>\n",
       "      <td>5.8</td>\n",
       "      <td>50.0</td>\n",
       "      <td>3.418</td>\n",
       "      <td>0.381024</td>\n",
       "      <td>2.3</td>\n",
       "      <td>3.125</td>\n",
       "      <td>3.4</td>\n",
       "      <td>3.675</td>\n",
       "      <td>4.4</td>\n",
       "    </tr>\n",
       "    <tr>\n",
       "      <th>Iris-versicolor</th>\n",
       "      <td>50.0</td>\n",
       "      <td>4.260</td>\n",
       "      <td>0.469911</td>\n",
       "      <td>3.0</td>\n",
       "      <td>4.0</td>\n",
       "      <td>4.35</td>\n",
       "      <td>4.600</td>\n",
       "      <td>5.1</td>\n",
       "      <td>50.0</td>\n",
       "      <td>1.326</td>\n",
       "      <td>...</td>\n",
       "      <td>6.3</td>\n",
       "      <td>7.0</td>\n",
       "      <td>50.0</td>\n",
       "      <td>2.770</td>\n",
       "      <td>0.313798</td>\n",
       "      <td>2.0</td>\n",
       "      <td>2.525</td>\n",
       "      <td>2.8</td>\n",
       "      <td>3.000</td>\n",
       "      <td>3.4</td>\n",
       "    </tr>\n",
       "    <tr>\n",
       "      <th>Iris-virginica</th>\n",
       "      <td>50.0</td>\n",
       "      <td>5.552</td>\n",
       "      <td>0.551895</td>\n",
       "      <td>4.5</td>\n",
       "      <td>5.1</td>\n",
       "      <td>5.55</td>\n",
       "      <td>5.875</td>\n",
       "      <td>6.9</td>\n",
       "      <td>50.0</td>\n",
       "      <td>2.026</td>\n",
       "      <td>...</td>\n",
       "      <td>6.9</td>\n",
       "      <td>7.9</td>\n",
       "      <td>50.0</td>\n",
       "      <td>2.974</td>\n",
       "      <td>0.322497</td>\n",
       "      <td>2.2</td>\n",
       "      <td>2.800</td>\n",
       "      <td>3.0</td>\n",
       "      <td>3.175</td>\n",
       "      <td>3.8</td>\n",
       "    </tr>\n",
       "  </tbody>\n",
       "</table>\n",
       "<p>3 rows × 32 columns</p>\n",
       "</div>"
      ],
      "text/plain": [
       "                  P_L                                                P_W  \\\n",
       "                count   mean       std  min  25%   50%    75%  max count   \n",
       "target                                                                     \n",
       "Iris-setosa      50.0  1.464  0.173511  1.0  1.4  1.50  1.575  1.9  50.0   \n",
       "Iris-versicolor  50.0  4.260  0.469911  3.0  4.0  4.35  4.600  5.1  50.0   \n",
       "Iris-virginica   50.0  5.552  0.551895  4.5  5.1  5.55  5.875  6.9  50.0   \n",
       "\n",
       "                       ...   S_L        S_W                                    \\\n",
       "                  mean ...   75%  max count   mean       std  min    25%  50%   \n",
       "target                 ...                                                      \n",
       "Iris-setosa      0.244 ...   5.2  5.8  50.0  3.418  0.381024  2.3  3.125  3.4   \n",
       "Iris-versicolor  1.326 ...   6.3  7.0  50.0  2.770  0.313798  2.0  2.525  2.8   \n",
       "Iris-virginica   2.026 ...   6.9  7.9  50.0  2.974  0.322497  2.2  2.800  3.0   \n",
       "\n",
       "                             \n",
       "                   75%  max  \n",
       "target                       \n",
       "Iris-setosa      3.675  4.4  \n",
       "Iris-versicolor  3.000  3.4  \n",
       "Iris-virginica   3.175  3.8  \n",
       "\n",
       "[3 rows x 32 columns]"
      ]
     },
     "execution_count": 3,
     "metadata": {},
     "output_type": "execute_result"
    }
   ],
   "source": [
    "#Clasificación dividir-aplicar-combinar\n",
    "#split\n",
    "data_groups = data.groupby('target')\n",
    "#Apply\n",
    "data_groups.describe()"
   ]
  },
  {
   "cell_type": "code",
   "execution_count": 4,
   "metadata": {},
   "outputs": [
    {
     "data": {
      "text/html": [
       "<div>\n",
       "<style scoped>\n",
       "    .dataframe tbody tr th:only-of-type {\n",
       "        vertical-align: middle;\n",
       "    }\n",
       "\n",
       "    .dataframe tbody tr th {\n",
       "        vertical-align: top;\n",
       "    }\n",
       "\n",
       "    .dataframe thead th {\n",
       "        text-align: right;\n",
       "    }\n",
       "</style>\n",
       "<table border=\"1\" class=\"dataframe\">\n",
       "  <thead>\n",
       "    <tr style=\"text-align: right;\">\n",
       "      <th></th>\n",
       "      <th>target</th>\n",
       "      <th>S_L</th>\n",
       "      <th>S_W</th>\n",
       "      <th>P_L</th>\n",
       "      <th>P_W</th>\n",
       "    </tr>\n",
       "  </thead>\n",
       "  <tbody>\n",
       "    <tr>\n",
       "      <th>0</th>\n",
       "      <td>Iris-setosa</td>\n",
       "      <td>5.006</td>\n",
       "      <td>3.418</td>\n",
       "      <td>1.464</td>\n",
       "      <td>0.244</td>\n",
       "    </tr>\n",
       "    <tr>\n",
       "      <th>1</th>\n",
       "      <td>Iris-versicolor</td>\n",
       "      <td>5.936</td>\n",
       "      <td>2.770</td>\n",
       "      <td>4.260</td>\n",
       "      <td>1.326</td>\n",
       "    </tr>\n",
       "    <tr>\n",
       "      <th>2</th>\n",
       "      <td>Iris-virginica</td>\n",
       "      <td>6.588</td>\n",
       "      <td>2.974</td>\n",
       "      <td>5.552</td>\n",
       "      <td>2.026</td>\n",
       "    </tr>\n",
       "  </tbody>\n",
       "</table>\n",
       "</div>"
      ],
      "text/plain": [
       "            target    S_L    S_W    P_L    P_W\n",
       "0      Iris-setosa  5.006  3.418  1.464  0.244\n",
       "1  Iris-versicolor  5.936  2.770  4.260  1.326\n",
       "2   Iris-virginica  6.588  2.974  5.552  2.026"
      ]
     },
     "execution_count": 4,
     "metadata": {},
     "output_type": "execute_result"
    }
   ],
   "source": [
    "data_mean = data_groups.mean().reset_index()\n",
    "data_mean"
   ]
  },
  {
   "cell_type": "code",
   "execution_count": 5,
   "metadata": {},
   "outputs": [
    {
     "data": {
      "text/plain": [
       "<seaborn.axisgrid.PairGrid at 0x7eff59b34ba8>"
      ]
     },
     "execution_count": 5,
     "metadata": {},
     "output_type": "execute_result"
    },
    {
     "data": {
      "image/png": "[encoded data removed]",
      "text/plain": [
       "<Figure size 823.5x720 with 20 Axes>"
      ]
     },
     "metadata": {},
     "output_type": "display_data"
    }
   ],
   "source": [
    "import matplotlib.pyplot as plt\n",
    "import seaborn as sns\n",
    "%matplotlib inline\n",
    "sns.pairplot(data, hue='target')"
   ]
  },
  {
   "cell_type": "code",
   "execution_count": 6,
   "metadata": {},
   "outputs": [
    {
     "name": "stdout",
     "output_type": "stream",
     "text": [
      "score :  95.0\n"
     ]
    }
   ],
   "source": [
    "\"\"\"\n",
    "    Observamos la gráfica P_L vs P_W se observa que hay límites entre las 3 categorías\n",
    "    se dividen horizontalmente de acuerdo a P_L mas no verticalmente a excepción de la \n",
    "    intersección de la iris-versicolor e iris-virginica\n",
    "\"\"\"\n",
    "\n",
    "#Buscamos el máximo y mínimo de las 3 categorias\n",
    "#Creamos nuestas condiciones \n",
    "data1 = pd.DataFrame(iris.data, columns= ['S_L','S_W','P_L','P_W'])\n",
    "data1['target'] = iris.target\n",
    "max_pl = data1[['P_L','target']].groupby(['target']).max().reset_index()\n",
    "min_pl = data1[['P_L','target']].groupby(['target']).min().reset_index()\n",
    "# Clasificamos si pertenece o no a los intervalos de l_petalo y w_petalo\n",
    "def iris_classification(pW):\n",
    "    #Si es menor al maximo petal length de la categoria setosa\n",
    "    if pW <= max_pl.P_L[0]:\n",
    "        return 0\n",
    "    elif max_pl.P_L[0]<=pW <=(max_pl.P_L[1]+min_pl.P_L[2])/2 :\n",
    "        return 1\n",
    "    else:\n",
    "        return 2\n",
    "count=0\n",
    "for i in range(140):\n",
    "    if iris_classification(data1.iloc[i]['P_L']) == data1.iloc[i]['target']:\n",
    "        count +=1\n",
    "print(\"score : \",(count*100)/140.0)\n",
    "    "
   ]
  },
  {
   "cell_type": "markdown",
   "metadata": {},
   "source": [
    "3 . Sea el siguiente código de generación de datos:"
   ]
  },
  {
   "cell_type": "code",
   "execution_count": 7,
   "metadata": {},
   "outputs": [],
   "source": [
    "import numpy as np\n",
    "import pandas as pd\n",
    "import matplotlib.pyplot as plt\n",
    "\n",
    "%matplotlib inline"
   ]
  },
  {
   "cell_type": "code",
   "execution_count": 8,
   "metadata": {},
   "outputs": [
    {
     "data": {
      "image/png": "[encoded data removed]",
      "text/plain": [
       "<Figure size 432x288 with 1 Axes>"
      ]
     },
     "metadata": {},
     "output_type": "display_data"
    }
   ],
   "source": [
    "# Recolectamos datos artificiales\n",
    "n = 100\n",
    "x = np.linspace(0, 1, n)\n",
    "y = np.sin(x)*3 + np.random.normal(0, 0.1, n)\n",
    "plt.plot(x, y, 'o');"
   ]
  },
  {
   "cell_type": "markdown",
   "metadata": {},
   "source": [
    "Usando los siguientes datos y scikit learn, desarrolla los siguientes pasos descritos en clase, para una regresión lineal:\n",
    "\n",
    "* Escoger un modelo\n",
    "* Elegir modelo de hiperparámetros\n",
    "* Organiza los datos en una matriz de características y vector objetivo.\n",
    "* Fija el modelo a tus datos.\n",
    "* Predecir etiquetas para datos desconocidos."
   ]
  },
  {
   "cell_type": "code",
   "execution_count": 9,
   "metadata": {},
   "outputs": [
    {
     "name": "stdout",
     "output_type": "stream",
     "text": [
      "Score :  0.9754059347608407\n"
     ]
    },
    {
     "data": {
      "image/png": "[encoded data removed]",
      "text/plain": [
       "<Figure size 432x288 with 1 Axes>"
      ]
     },
     "metadata": {},
     "output_type": "display_data"
    }
   ],
   "source": [
    "from sklearn.linear_model import LinearRegression\n",
    "from sklearn.model_selection import cross_val_score\n",
    "#Elegimos el modelo de hiperparámetros\n",
    "lr = LinearRegression(normalize=True)\n",
    "X_train = x\n",
    "Y_train = y\n",
    "#fit_transform espera una matriz 2D\n",
    "#Transformamos la matrix X_train\n",
    "#X_train matrix de caracteristicas\n",
    "X_train = X_train.reshape((X_train.shape[0], 1))\n",
    "\n",
    "#Fijamos el modelo a la data\n",
    "lr.fit(X_train, Y_train)\n",
    "\n",
    "\n",
    "X_test = np.linspace(0, 1, 30)\n",
    "Y_test = np.sin(X_test)*3 + np.random.normal(0, 0.1, 30)\n",
    "X_test = X_test.reshape((X_test.shape[0], 1))\n",
    "print(\"Score : \",lr.score(X_test, Y_test))\n",
    "\n",
    "Y_linea = lr.predict(X_train)\n",
    "plt.plot(x, y, 'o', x, Y_linea, '-r');"
   ]
  },
  {
   "cell_type": "markdown",
   "metadata": {},
   "source": [
    "4 . Realiza los mismos pasos para el conjunto  de datos de scikit learn  [load_diabetes](http://scikit-learn.org/stable/modules/generated/sklearn.datasets.load_diabetes.html). "
   ]
  },
  {
   "cell_type": "code",
   "execution_count": 10,
   "metadata": {},
   "outputs": [],
   "source": [
    "from sklearn.datasets import load_diabetes\n",
    "data = load_diabetes()"
   ]
  },
  {
   "cell_type": "code",
   "execution_count": 11,
   "metadata": {},
   "outputs": [
    {
     "data": {
      "text/plain": [
       "dict_keys(['target', 'feature_names', 'DESCR', 'data'])"
      ]
     },
     "execution_count": 11,
     "metadata": {},
     "output_type": "execute_result"
    }
   ],
   "source": [
    "data.keys()"
   ]
  },
  {
   "cell_type": "code",
   "execution_count": 12,
   "metadata": {},
   "outputs": [
    {
     "name": "stdout",
     "output_type": "stream",
     "text": [
      "Diabetes dataset\n",
      "================\n",
      "\n",
      "Notes\n",
      "-----\n",
      "\n",
      "Ten baseline variables, age, sex, body mass index, average blood\n",
      "pressure, and six blood serum measurements were obtained for each of n =\n",
      "442 diabetes patients, as well as the response of interest, a\n",
      "quantitative measure of disease progression one year after baseline.\n",
      "\n",
      "Data Set Characteristics:\n",
      "\n",
      "  :Number of Instances: 442\n",
      "\n",
      "  :Number of Attributes: First 10 columns are numeric predictive values\n",
      "\n",
      "  :Target: Column 11 is a quantitative measure of disease progression one year after baseline\n",
      "\n",
      "  :Attributes:\n",
      "    :Age:\n",
      "    :Sex:\n",
      "    :Body mass index:\n",
      "    :Average blood pressure:\n",
      "    :S1:\n",
      "    :S2:\n",
      "    :S3:\n",
      "    :S4:\n",
      "    :S5:\n",
      "    :S6:\n",
      "\n",
      "Note: Each of these 10 feature variables have been mean centered and scaled by the standard deviation times `n_samples` (i.e. the sum of squares of each column totals 1).\n",
      "\n",
      "Source URL:\n",
      "http://www4.stat.ncsu.edu/~boos/var.select/diabetes.html\n",
      "\n",
      "For more information see:\n",
      "Bradley Efron, Trevor Hastie, Iain Johnstone and Robert Tibshirani (2004) \"Least Angle Regression,\" Annals of Statistics (with discussion), 407-499.\n",
      "(http://web.stanford.edu/~hastie/Papers/LARS/LeastAngle_2002.pdf)\n",
      "\n"
     ]
    }
   ],
   "source": [
    "print(data['DESCR'])"
   ]
  },
  {
   "cell_type": "code",
   "execution_count": 13,
   "metadata": {},
   "outputs": [
    {
     "data": {
      "text/plain": [
       "((442, 10), (442,))"
      ]
     },
     "execution_count": 13,
     "metadata": {},
     "output_type": "execute_result"
    }
   ],
   "source": [
    "X = data['data']\n",
    "y = data['target']\n",
    "X.shape, y.shape"
   ]
  },
  {
   "cell_type": "code",
   "execution_count": 14,
   "metadata": {},
   "outputs": [
    {
     "name": "stdout",
     "output_type": "stream",
     "text": [
      "Score :  0.4977273204556125\n"
     ]
    }
   ],
   "source": [
    "from sklearn.model_selection import train_test_split\n",
    "#Elegimos el modelo\n",
    "lr2 = LinearRegression(normalize=True)\n",
    "#Organizamos los datos en una matriz de caracteristicas y un vector objetivo\n",
    "#Dividimos la data en 80% para el entrenamiento y 20% para la prueba\n",
    "X_train, X_test, Y_train, Y_test = train_test_split(X, y, test_size=0.2)\n",
    "\n",
    "#Fijamos el modelo a nuestra data\n",
    "lr.fit(X_train, Y_train)\n",
    "print(\"Score : \",lr.score(X_test, Y_test))\n"
   ]
  },
  {
   "cell_type": "markdown",
   "metadata": {},
   "source": [
    "5 (Obligatoria). Lee el siguiente artículo [Understanding the Bias-Variance Tradeoff](http://scott.fortmann-roe.com/docs/BiasVariance.html), responde las siguientes preguntas:\n",
    "\n",
    "* En el ejemplo Party Registration, ¿cuáles son las características? ¿Cuál es la respuesta? ¿Es  un problema de regresión o clasificación?.\n",
    "\n",
    "* Conceptualmente, ¿cómo se aplica KNN a este problema para hacer una predicción?\n",
    "* ¿Cómo se relacionan las cuatro visualizaciones en la sección 3 entre sí?. Cambia el valor de **k** utilizando el control deslizante y explica por que  cambió  las visualizaciones.\n",
    "* En las figuras 4 y 5, ¿qué significan los colores más claros en comparación con los colores más oscuros? ¿Cómo se calcula la oscuridad?\n",
    "\n",
    "* ¿Qué representa la línea negra en la figura 5? ¿Qué predicciones haría el mejor modelo de aprendizaje automático con respecto a esta línea?\n",
    "\n",
    "* Elije un valor pequeño para `k` y haz clic en el botón `Generate New Training Data` varias veces. ¿Observas \"baja varianza o alta varianza, bajo sesgo o alto sesgo?\n",
    "\n",
    "* Repite este procedimiento con un valor muy grande de `k`. ¿Observas \"baja varianza o alta varianza, bajo sesgo o alto sesgo?.\n",
    "\n",
    "* Utiliza otros valores de `k`. ¿Qué valor crees que es \"mejor\"? ¿Cómo defines \"mejor\"?.\n",
    "\n",
    "* ¿Un pequeño valor de `k` produce \"overfitting\" o \"underfitting\"? y ¿por qué?.\n",
    "\n",
    "* ¿Por qué debería importarnos la varianza? ¿No deberíamos minimizar el sesgo e ignorar la varianza?."
   ]
  },
  {
   "cell_type": "markdown",
   "metadata": {},
   "source": [
    "##### Solución 5:\n",
    "* Las características son las riquezas de los votantes y una medida cuantitativa de la religiosidad de los votantes. La respuesta son los círculos rojos representan a los votantes republicanos y los círculos azules que representan los votos demócratas. Es un problema de regresión ya que tiene que correlacionar los registros con dos posibles estados (voto republicano o demócrata).\n",
    "* El KN se aplica al modelo fijando un valor k, y para un conjunto de puntos se halla la media de un subconjuntos de los puntos más cercanos al punto fijo k para generar una región donde se puede predecir un próximo valor.\n",
    "* Las 4 figuras se relacionan con la distribución de votantes con respecto a su riqueza y religiosidad, esta distribución se realiza aplicando KNN sobre la data existente y sobre data nueva, las figuras nos muestran los vecindarios más cercanos para cada habitante aplicado sobre todas las regiones. El valor de k determina el número de vecinos más cercanos para que determinen la región y respecto a este si eres republicano o demócrata. En la gráfica interactiva observamos que al aumentar y disminuir el valor de k el error debido al sesgo y varianza varía con respecto a este, se puede apreciar mejor en la figura ya que te muestra el modelo real que se utilizó para clasificar a los votantes.\n",
    "* Los colores más claros significan que en el modelo de clasificación dichos sectores representar un mayor error debido al sesgo, esto a comparación de los colores oscuros. La oscuridad se calcula con respecto al modelo de clasificación se observa si está en la región con mayor predominancia será oscuro caso contrario sera colores claros.\n",
    "* La línea negra representa la el modelo clasificación real que ya esta determinado, las predicciones son los datos que estén por encima de la línea corresponden al grupo de votantes republicanos y aso contrario demócratas.\n",
    "* En los k pequeños , se observa irregularidad e islas que son signos de una alta varianza, el bias para este caso es bajo.\n",
    "* A medida que k aumenta va disminuyendo el varianza y aumentando el sesgo, en el caso de k=20 la transición se hace más suave y las islas desaparecen y la división entre demócratas y republicanos hace un buen trabajo al seguir la línea fronteriza. Pero al aumentar más el valor de k se observa un alto sesgo y un alejamiento de la línea de predicción.\n",
    "* Produce Overfitting ya que se entrena con pocos vecinos y al clasificar un nuevo valor va tener alta varianza por lo tanto mayor posibilidad de errar. \n",
    "* La varianza es importante al momento que aumenta la complejidad del modelo, se agregan parámetros al modelo, ya que este también aumenta su valor y el valor del sesgo disminuye. Para entender el comportamiento de nuestro modelo es fundamental comprender el sesgo y la varianza, por lo que ambos parámetros son imprescindibles para generar el modelo.\n",
    "\n"
   ]
  }
 ],
 "metadata": {
  "kernelspec": {
   "display_name": "Python 3",
   "language": "python",
   "name": "python3"
  },
  "language_info": {
   "codemirror_mode": {
    "name": "ipython",
    "version": 3
   },
   "file_extension": ".py",
   "mimetype": "text/x-python",
   "name": "python",
   "nbconvert_exporter": "python",
   "pygments_lexer": "ipython3",
   "version": "3.5.2"
  }
 },
 "nbformat": 4,
 "nbformat_minor": 2
}
