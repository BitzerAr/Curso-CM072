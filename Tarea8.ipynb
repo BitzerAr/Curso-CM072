{
 "cells": [
  {
   "cell_type": "markdown",
   "metadata": {},
   "source": [
    "## Tarea 8 del curso CM-072\n",
    "\n",
    "* Nombre y apellidos: Bitzer Arotoma Bacilio\n",
    "* Fecha de presentación: 30 de noviembre."
   ]
  },
  {
   "cell_type": "markdown",
   "metadata": {},
   "source": [
    "Responde las siguientes preguntas:"
   ]
  },
  {
   "cell_type": "markdown",
   "metadata": {},
   "source": [
    "1. ***¿Cuál es la diferencia entre la Inteligencia Artificial Fuerte y la Inteligencia Artificial Débil?***"
   ]
  },
  {
   "cell_type": "markdown",
   "metadata": {},
   "source": [
    "#### Respuesta :\n",
    "* Una IA fuerte es aquel que se puede autoentrenar autònomamente, simulando tareas humanas en la toma de decisiones.\n",
    "\n",
    "* Una IA debil es aquella que se sobreajusta por fuerza bruta a una tarea en especifica."
   ]
  },
  {
   "cell_type": "markdown",
   "metadata": {},
   "source": [
    "***2. ¿Qué es un sistema experto y cuales son las características más importantes de un sistema experto? Listar las ventajas del sistema experto.***\n"
   ]
  },
  {
   "cell_type": "markdown",
   "metadata": {},
   "source": [
    "#### Respuesta:\n",
    "Los sistemas expertos son sistemas computacionales logicos que resuelven tareas humanas con la misma capacidad que este.\n",
    "\n",
    "Caracteristicas\n",
    "1. Reglas establecidas\n",
    "2. Escalabilidad debido a las secuencias logicas establecidas.\n",
    "2. Actualización del sistema.\n",
    "3. \n",
    "Beneficios\n",
    "1. "
   ]
  },
  {
   "cell_type": "markdown",
   "metadata": {},
   "source": [
    "***3. ¿Qué es Tensorflow y Keras?***"
   ]
  },
  {
   "cell_type": "markdown",
   "metadata": {},
   "source": [
    "#### Tu respuesta\n",
    "Librerias con enfoques a desarrollar modelos autonomos, especializados principalmente en redes neuronales y sus derivados. Tensorflow es desarrollado por Google y es mas personalizado a la hora de programar y definir los hiperparametros a diferencia de keras que es altamente modular y extensible, lo que significa que son menos modificables sus redes neuronales."
   ]
  },
  {
   "cell_type": "markdown",
   "metadata": {},
   "source": [
    "***4. Enumera las diferentes técnicas de algoritmos en Machine Learning.***\n"
   ]
  },
  {
   "cell_type": "markdown",
   "metadata": {},
   "source": [
    "#### Tu respuesta\n",
    "* Regresión.\n",
    "* Clasificación.\n",
    "* Clustering.\n",
    "* Detecciñon de Anomalias."
   ]
  },
  {
   "cell_type": "markdown",
   "metadata": {},
   "source": [
    "***5. ¿Qué es deep learning?***"
   ]
  },
  {
   "cell_type": "markdown",
   "metadata": {},
   "source": [
    "#### Tu respuesta\n",
    "Es generar modelos principalmente no supervisados en base a una red neuronal artificial que entrena los datos a partir de capas ocultas que se generan en la red neuronal."
   ]
  },
  {
   "cell_type": "markdown",
   "metadata": {},
   "source": [
    "***6.¿Cuáles son las diferencias entre aprendizaje supervisado, no supervisado y por refuerzo?***\n"
   ]
  },
  {
   "cell_type": "markdown",
   "metadata": {},
   "source": [
    "#### Tu respuesta\n",
    "1. ***Supervisado*** : se conoce las variables dependientes como las independientes, data de entrenamiento y el valor a predecir.\n",
    "2. ***No Supervisado*** : Solo se conoce la data a entrenar y el modelo se encarga de generar una salida que por lo general son grupos de asociación (clústers).\n",
    "3. ***Por Refuerzo*** : Es un aprendizaje por estimulos que se va retroalimentando por ensayo error, para ajustar su funcion de costo."
   ]
  },
  {
   "cell_type": "markdown",
   "metadata": {},
   "source": [
    "***7. Nombra algunos algoritmos de machine learning***\n"
   ]
  },
  {
   "cell_type": "markdown",
   "metadata": {},
   "source": [
    "#### Tu respuesta\n",
    "* Reresion Lineal y Polinomial\n",
    "* Logistic Regression\n",
    "* Naive Bayes\n",
    "* Random Forest Regressión y Clasificación\n",
    "* KNN\n",
    "* Suport Vector Machine\n",
    "* Decision Tree"
   ]
  },
  {
   "cell_type": "markdown",
   "metadata": {},
   "source": [
    "***8. ¿Qué es Naive Bayes?***"
   ]
  },
  {
   "cell_type": "markdown",
   "metadata": {},
   "source": [
    "##### Tu respuesta\n",
    "Algoritmo basado en reglas bayesianas, se aplica principalmente para clasificar de acuerdo a la probabilidad de asociacion o pertenencia."
   ]
  },
  {
   "cell_type": "markdown",
   "metadata": {},
   "source": [
    "***9. ¿Cuáles son diferencias entre  modelos paramétricos y no paramétricos?***"
   ]
  },
  {
   "cell_type": "markdown",
   "metadata": {},
   "source": [
    "##### Tu respuesta\n",
    "Un modelo paramétrico captura toda su información sobre los datos dentro de sus parámetros. Todo lo que necesita saber para predecir un valor de datos futuro a partir del estado actual del modelo son solo sus parámetros. Por ejemplo, en el caso de una regresión lineal con una variable, tiene dos parámetros (el coeficiente y la intersección). Conocer estos dos parámetros le permitirá predecir un nuevo valor.\n",
    "Por otro lado, un modelo no paramétrico puede capturar aspectos más sutiles de los datos. Permite que más información pase del conjunto actual de datos que se adjunta al modelo en el estado actual, para poder predecir datos futuros. Se suele decir que los parámetros tienen dimensiones infinitas y, por lo tanto, pueden expresar las características en los datos mucho mejor que los modelos paramétricos. Tiene más grados de libertad y es más flexible. Un modelo de mezcla gaussiana, por ejemplo, tiene más flexibilidad para expresar los datos en forma de múltiples distribuciones gaussianas"
   ]
  },
  {
   "cell_type": "markdown",
   "metadata": {},
   "source": [
    "***10. Lista las técnicas de extracción usados para la reducción de la dimensión.***"
   ]
  },
  {
   "cell_type": "markdown",
   "metadata": {},
   "source": [
    "#### Tu respuesta\n",
    "* PCA (Analisis Principales componentes)\n",
    "* LDA (Análisis discriminante lineal)\n",
    "* NMF (Factorización Mmatricial no negativa)\n",
    "* GDA (Análisis discriminatorio Gausiano)"
   ]
  },
  {
   "cell_type": "markdown",
   "metadata": {},
   "source": [
    "***11.¿ Es kNN diferente de kmeans clustering?***"
   ]
  },
  {
   "cell_type": "markdown",
   "metadata": {},
   "source": [
    "#### Tu respuesta\n",
    "KNN es un algoritmo supervisado dependiente de los hiperparametros mientras que kmeans es un algoritmos no supervisado que toma la media como caracteristica primordial para generar los clústers."
   ]
  },
  {
   "cell_type": "markdown",
   "metadata": {},
   "source": [
    "***12.Lista los pasos involucrados en machine learning.***"
   ]
  },
  {
   "cell_type": "markdown",
   "metadata": {},
   "source": [
    "##### Tu respuesta\n",
    "* Recolectar data\n",
    "* Preprocesar la data\n",
    "* Análisis exploratorio de la data (estadistica inferencial y descriptiva)\n",
    "* Entrenar el modelo con algoritmos de Machine Learning.\n",
    "* Evaluar el desempeño del modelo a traves de metricas de precisión predictiva del modelo."
   ]
  },
  {
   "cell_type": "markdown",
   "metadata": {},
   "source": [
    "***13. ¿Qué es la regularización, por qué la usamos y proporciona algunos ejemplos de métodos comunes en machine learning?***"
   ]
  },
  {
   "cell_type": "markdown",
   "metadata": {},
   "source": [
    "##### Tu respuesta\n",
    "La regularización no es mas que un metódo de regresión para la estimación de los coeficiente para ajustar el resultado con la finalidad de evitar el overfitting y evitar lo mas posible el error. \n"
   ]
  },
  {
   "cell_type": "markdown",
   "metadata": {},
   "source": [
    "***14.¿Cuáles son los componentes de las técnicas de evaluación relacional?***"
   ]
  },
  {
   "cell_type": "markdown",
   "metadata": {},
   "source": [
    "##### Tu respuesta\n",
    "* Cross-Validation\n",
    "* Scoring Metric\n",
    "* Ground Truth"
   ]
  },
  {
   "cell_type": "markdown",
   "metadata": {},
   "source": [
    "***15.Define el F1 score***"
   ]
  },
  {
   "cell_type": "markdown",
   "metadata": {},
   "source": [
    "##### Tu respuesta\n",
    "Análisis estadistico de clasificación binarioa , es una medida de precisión, generalmente se usa en la fase de prueba, generalmente usado en el procesamiento de lenguaje natural. F1 es la media armonica entre sensibilidad y precisión."
   ]
  },
  {
   "cell_type": "markdown",
   "metadata": {},
   "source": [
    "***16. ¿Cómo seleccionas variables importantes en un conjunto de datos?***"
   ]
  },
  {
   "cell_type": "markdown",
   "metadata": {},
   "source": [
    "##### Tu respuesta\n",
    "Esto es dependiendo de la salida del modelo, ya que hay variables que tendran mayor peso con respecto al output del modelo, generar nueva data a partir de la que ya se tiene mediante alguna forma matematica o logica. Medir la correlación de las variables aunque este paso se obvia al aplicar randomForest ya que ha este algoritmo no le da importancia si los datos estan correlacionados ya que los ramifica."
   ]
  },
  {
   "cell_type": "markdown",
   "metadata": {},
   "source": [
    "***17. ¿Qué es un sistema de recomendación?***"
   ]
  },
  {
   "cell_type": "markdown",
   "metadata": {},
   "source": [
    "##### Tu respuesta\n",
    "Es un modelo que ya esta entrenado y tiene un buen performance, listo para enviarlo a producción."
   ]
  },
  {
   "cell_type": "markdown",
   "metadata": {},
   "source": [
    "***18. ¿Cómo combatir la maldición de la dimensionalidad?***"
   ]
  },
  {
   "cell_type": "markdown",
   "metadata": {},
   "source": [
    "##### Tu respuesta\n",
    "Aplicando PCA o analizar el comportamiento de los features mediante estadistica descriptiva."
   ]
  },
  {
   "cell_type": "markdown",
   "metadata": {},
   "source": [
    "***19. Explica el análisis de componentes principales (PCA)***"
   ]
  },
  {
   "cell_type": "code",
   "execution_count": 19,
   "metadata": {},
   "outputs": [],
   "source": [
    "# Tu respuesta"
   ]
  },
  {
   "cell_type": "markdown",
   "metadata": {},
   "source": [
    "***20. Qué es la normalización de datos y por qué la necesitamos?***"
   ]
  },
  {
   "cell_type": "markdown",
   "metadata": {},
   "source": [
    "#### Tu respuesta\n",
    "La normalización es redimensionar los datos a un rango definido, lo necesitamos para reducir la funcion de costo generalmente en funciones de costo, para una mejor convergencia."
   ]
  },
  {
   "cell_type": "markdown",
   "metadata": {},
   "source": [
    "***21 .¿Cómo manejas los datos faltantes en un conjunto de datos?***"
   ]
  },
  {
   "cell_type": "markdown",
   "metadata": {},
   "source": [
    "##### Tu respuesta\n",
    "Si los datos son categoricos generar dictomia, o ver la codepencia con otras variables para completar los datos faltantes ejemplo si se tiene la variable edad y la variable estado (Soltero o casado), se puede generar una cierta logica entre edad y estado para completar los datos faltantes.\n",
    "Si los datos son numericos inputaria los datos faltantes con valores medidos de la data presente como la media, mediana o la moda, generalmente la mediana ya que es la de mayore tendencia central. Otro metodo es predecir los datos faltantes a partir de un modelo."
   ]
  },
  {
   "cell_type": "markdown",
   "metadata": {},
   "source": [
    "***22. ¿Cómo harías para hacer un análisis exploratorio de datos (EDA)?***"
   ]
  },
  {
   "cell_type": "markdown",
   "metadata": {},
   "source": [
    "##### Tu respuesta\n",
    "Este análisis generalmente se hace con estadistica descriptiva evaluando el comportamiento de los datos graficamente."
   ]
  },
  {
   "cell_type": "markdown",
   "metadata": {},
   "source": [
    "***23. ¿Por qué necesitamos un conjunto de validación y un conjunto de prueba? ¿Cuál es la diferencia entre ellos?***"
   ]
  },
  {
   "cell_type": "markdown",
   "metadata": {},
   "source": [
    "##### Tu respuesta\n",
    "El conjunto de validación su mismo nombre lo dice es para validar el modelo a partir de los datos de entrenamiento, y la data de prueba es para evaluar tu modelo a partir de data real. La diferencia basicamente es que uno es para evaluar el comportamiento de tu modelo a partir de casos reales, y el otro es basicamente para dar un performance a tu modelo."
   ]
  },
  {
   "cell_type": "markdown",
   "metadata": {},
   "source": [
    "***24 ¿Qué es la validación cruzada estratificada y cuándo debemos usarla?***"
   ]
  },
  {
   "cell_type": "markdown",
   "metadata": {},
   "source": [
    "##### Tu respuesta\n",
    "Es un proceso de reorganizar los datos de tal manera que cada clase este representada por igual en cada pliegue de prueba. Usarla cuando la salida del modelo no esta balanceada"
   ]
  },
  {
   "cell_type": "markdown",
   "metadata": {},
   "source": [
    "***25 ¿Por qué los modelos conjuntos o ensamblados suelen tener puntuaciones más altas que los modelos individuales?***"
   ]
  },
  {
   "cell_type": "code",
   "execution_count": 27,
   "metadata": {},
   "outputs": [],
   "source": [
    "# Tu respuesta"
   ]
  },
  {
   "cell_type": "markdown",
   "metadata": {},
   "source": [
    "***26 ¿Qué es un conjunto de datos desbalanceado? ¿Puedes enumerar algunas maneras de lidiar con estos conjuntos?***\n"
   ]
  },
  {
   "cell_type": "markdown",
   "metadata": {},
   "source": [
    "##### Tu respuesta\n",
    "Un conjunto de datos desbalanceado es cuando no se tiene mucha informacion para la salida de una variable por lo que se genera un buen entrenamiento para estas salidas de esta data minoritaria y la salida estara sesgada a otros output que representar la mayor cantida de información de los datos."
   ]
  }
 ],
 "metadata": {
  "kernelspec": {
   "display_name": "Python 3",
   "language": "python",
   "name": "python3"
  },
  "language_info": {
   "codemirror_mode": {
    "name": "ipython",
    "version": 3
   },
   "file_extension": ".py",
   "mimetype": "text/x-python",
   "name": "python",
   "nbconvert_exporter": "python",
   "pygments_lexer": "ipython3",
   "version": "3.6.7"
  }
 },
 "nbformat": 4,
 "nbformat_minor": 2
}
